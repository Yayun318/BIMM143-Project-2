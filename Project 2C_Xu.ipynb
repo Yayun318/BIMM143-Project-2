{
 "cells": [
  {
   "cell_type": "markdown",
   "id": "027fbb4c",
   "metadata": {},
   "source": [
    "### Introduction"
   ]
  },
  {
   "cell_type": "markdown",
   "id": "84aeab9d",
   "metadata": {},
   "source": [
    "##### Scientific Question: Since the research shows that the MyD88-dependent TLR signaling pathway is most likely to be functional in terms of Mycobacterium Vaccae vaccine effect, is it possible for Mycobacterium Vaccae to have the same effect of stimulating human TLR signaling pathway?"
   ]
  },
  {
   "cell_type": "markdown",
   "id": "6522facc",
   "metadata": {},
   "source": [
    "##### Scientific Hypothesis: If the TLR receptor of humans is structurally similar to the TLR receptor of mice, Mycobacterium Vaccae vaccine might have the same effect of stimulating TLR signaling pathway in humans."
   ]
  },
  {
   "cell_type": "markdown",
   "id": "995bc30b",
   "metadata": {},
   "source": [
    "### Loading in Packages 1"
   ]
  },
  {
   "cell_type": "code",
   "execution_count": 27,
   "id": "efba79cd",
   "metadata": {},
   "outputs": [
    {
     "name": "stdout",
     "output_type": "stream",
     "text": [
      "Collecting logomaker\n",
      "  Downloading logomaker-0.8-py2.py3-none-any.whl (11.8 MB)\n",
      "\u001b[K     |████████████████████████████████| 11.8 MB 5.2 MB/s eta 0:00:01\n",
      "\u001b[?25hRequirement already satisfied: pandas in /Users/hakuroku/opt/anaconda3/lib/python3.9/site-packages (from logomaker) (1.3.4)\n",
      "Requirement already satisfied: matplotlib in /Users/hakuroku/opt/anaconda3/lib/python3.9/site-packages (from logomaker) (3.4.3)\n",
      "Requirement already satisfied: numpy in /Users/hakuroku/opt/anaconda3/lib/python3.9/site-packages (from logomaker) (1.20.3)\n",
      "Requirement already satisfied: kiwisolver>=1.0.1 in /Users/hakuroku/opt/anaconda3/lib/python3.9/site-packages (from matplotlib->logomaker) (1.3.1)\n",
      "Requirement already satisfied: pyparsing>=2.2.1 in /Users/hakuroku/opt/anaconda3/lib/python3.9/site-packages (from matplotlib->logomaker) (3.0.4)\n",
      "Requirement already satisfied: cycler>=0.10 in /Users/hakuroku/opt/anaconda3/lib/python3.9/site-packages (from matplotlib->logomaker) (0.10.0)\n",
      "Requirement already satisfied: pillow>=6.2.0 in /Users/hakuroku/opt/anaconda3/lib/python3.9/site-packages (from matplotlib->logomaker) (8.4.0)\n",
      "Requirement already satisfied: python-dateutil>=2.7 in /Users/hakuroku/opt/anaconda3/lib/python3.9/site-packages (from matplotlib->logomaker) (2.8.2)\n",
      "Requirement already satisfied: six in /Users/hakuroku/opt/anaconda3/lib/python3.9/site-packages (from cycler>=0.10->matplotlib->logomaker) (1.16.0)\n",
      "Requirement already satisfied: pytz>=2017.3 in /Users/hakuroku/opt/anaconda3/lib/python3.9/site-packages (from pandas->logomaker) (2021.3)\n",
      "Installing collected packages: logomaker\n",
      "Successfully installed logomaker-0.8\n",
      "Note: you may need to restart the kernel to use updated packages.\n"
     ]
    }
   ],
   "source": [
    "pip install logomaker"
   ]
  },
  {
   "cell_type": "code",
   "execution_count": 51,
   "id": "195d0836",
   "metadata": {},
   "outputs": [],
   "source": [
    "# Import libraries for Pairwise Sequence\n",
    "from Bio import pairwise2\n",
    "from Bio.Seq import Seq\n",
    "from Bio.pairwise2 import format_alignment\n",
    "from Bio import SeqIO\n",
    "\n",
    "# Import libraries for logomaker\n",
    "import logomaker as lm\n",
    "\n",
    "# Import libraries for PDB\n",
    "from Bio.PDB import *\n",
    "import nglview as nv\n",
    "\n",
    "from Bio.SeqUtils.ProtParam import ProteinAnalysis"
   ]
  },
  {
   "cell_type": "code",
   "execution_count": 127,
   "id": "f4406359",
   "metadata": {},
   "outputs": [
    {
     "name": "stdout",
     "output_type": "stream",
     "text": [
      "ID: NC_000004.12:153684280-153710637\n",
      "Name: NC_000004.12:153684280-153710637\n",
      "Description: NC_000004.12:153684280-153710637 TLR2 [organism=Homo sapiens] [GeneID=7097] [chromosome=4]\n",
      "Number of features: 0\n",
      "Seq('AGGCCGGCTCGGAGGCAGCGAGAAAGCGCAGCCAGGCGGCTGCTCGGCGTTCTC...TGA')\n",
      "ID: NC_000069.7:c83749045-83743579\n",
      "Name: NC_000069.7:c83749045-83743579\n",
      "Description: NC_000069.7:c83749045-83743579 Tlr2 [organism=Mus musculus] [GeneID=24088] [chromosome=3]\n",
      "Number of features: 0\n",
      "Seq('GCCTGCCCTGTGGCTCCTGCCAGCTCTGATGCCAGGCTCCGTTCCCCTTGCAGA...GGA')\n",
      "26358\n",
      "5467\n"
     ]
    }
   ],
   "source": [
    "# Creating sample sequences\n",
    "seq1 = SeqIO.read('gene.fna', 'fasta')\n",
    "seq2 = SeqIO.read('gene.fna2', 'fasta')\n",
    "print(seq1)\n",
    "print(seq2)\n",
    "print(len(seq1.seq))\n",
    "print(len(seq2.seq))"
   ]
  },
  {
   "cell_type": "markdown",
   "id": "0b7f88eb",
   "metadata": {},
   "source": [
    "### Performing Bioinformatics Analysis 1: Pairwise Sequence"
   ]
  },
  {
   "cell_type": "code",
   "execution_count": 20,
   "id": "13ff513f",
   "metadata": {},
   "outputs": [
    {
     "name": "stdout",
     "output_type": "stream",
     "text": [
      "ID: NC_0000-04.12:15368--428-0-1-5--37106-3-7-\n",
      "Name: NC_000004--.12-:1536-8--428-0-1-5--37106-3-7-\n",
      "Description: NC_000004--.12-:1536-8--428-0-1-5--37106-3-7- TLR--2 [organism=Homo--- --sapien----s] [GeneID=7--097--] [chromosome=4-]\n",
      "Number of features: 0\n",
      "Seq('AGGCCG-GCTCG--GA-GGCAG-CGAGAAAGC-GC-AGC-CA-G--GCGGCT-G-CTCGGCGTTC---T--C---...TG-A')\n",
      "||||||||||| . |. |   .|  |   ||  || ||    | | |||||||||| ||||   |   |     |  |   ||  || ||    | | ||||||||||||||||| ||||   |   |     |  |   ||  || ||    | | ||    ||||||||||||       |  |         |||||||||||   |    ||||||||||||||  |||||||||||||||||||||||||||||  |||  || |   |  |||   |       | || ||| |  |  ||  |  | |||  |||||   |  |   ||| | |||\n",
      "ID: NC_000069-.7-:---c8374--90--45-837---43579\n",
      "Name: NC_-0000-69.--7:----c8374--90--45-837---43579\n",
      "Description: NC_-0000-69.--7:----c8374--90--45-837---43579 T--lr2 [organism=----Mus mus-----culus] [GeneID=-240--88] [chromosome=-3]\n",
      "Number of features: 0\n",
      "Seq('--GCC-TGC-C-CTG-TGGC--TC-------CTGCCAGCTC-TGATGC--C-AGGCTC--CGTTCCCCTTGCAGA...-GGA')\n",
      "  Score=187\n",
      "\n"
     ]
    }
   ],
   "source": [
    "# Finding similarities\n",
    "alignments = pairwise2.align.globalxx(seq1, seq2)\n",
    "\n",
    "# Showing results\n",
    "print(format_alignment(*alignment))"
   ]
  },
  {
   "cell_type": "markdown",
   "id": "4b8875a1",
   "metadata": {},
   "source": [
    "### Plotting the Results 1: Sequence Logos"
   ]
  },
  {
   "cell_type": "code",
   "execution_count": 116,
   "id": "e0992ddb",
   "metadata": {},
   "outputs": [
    {
     "ename": "IndentationError",
     "evalue": "unexpected indent (2114116777.py, line 2)",
     "output_type": "error",
     "traceback": [
      "\u001b[0;36m  File \u001b[0;32m\"/var/folders/mk/nv1kgcmj09l_918b84d6ysrm0000gn/T/ipykernel_27842/2114116777.py\"\u001b[0;36m, line \u001b[0;32m2\u001b[0m\n\u001b[0;31m    for align in alignments\u001b[0m\n\u001b[0m    ^\u001b[0m\n\u001b[0;31mIndentationError\u001b[0m\u001b[0;31m:\u001b[0m unexpected indent\n"
     ]
    }
   ],
   "source": [
    "# create counts matrix\n",
    "    for align in alignments \n",
    "        seq = align.seq\n",
    "        seq_str = str(seq)\n",
    "        Multi_seq.append(seq_str)\n",
    "\n",
    "#Multi_counts_df = lm.alignment_to_matrix(sequences=list1, to_type='counts', characters_to_ignore='.-X')\n",
    "\n",
    "# preview counts dataframe\n",
    "#Multi_counts_df.head()\n",
    "\n",
    "# show full Multi counts\n",
    "#lm.Logo(Multi_counts_df)"
   ]
  },
  {
   "cell_type": "markdown",
   "id": "fc337d67",
   "metadata": {},
   "source": [
    "### Performing Bioinformatics Analysis 2: Homology Sequence "
   ]
  },
  {
   "cell_type": "code",
   "execution_count": 101,
   "id": "934d0051",
   "metadata": {},
   "outputs": [
    {
     "data": {
      "application/vnd.jupyter.widget-view+json": {
       "model_id": "ef2ac3a5df2045f489eb6ae1958af872",
       "version_major": 2,
       "version_minor": 0
      },
      "text/plain": [
       "NGLWidget()"
      ]
     },
     "metadata": {},
     "output_type": "display_data"
    }
   ],
   "source": [
    "# Homology Sequence of Human TLR. \n",
    "\n",
    "# First, create a PDBParser object:\n",
    "parser = PDBParser()\n",
    "# Then, create a structure object from a PDB file in the following way (the PDB file in this case is called 1FAT.pdb, PHA-L is a user defined name for the structure):\n",
    "Human_structure = parser.get_structure(\"Human_TLR2\", \"Human.pdb\")\n",
    "# View Biopython structural entities\n",
    "view = nv.show_biopython(Human_structure)\n",
    "view"
   ]
  },
  {
   "cell_type": "markdown",
   "id": "c1e02b33",
   "metadata": {},
   "source": [
    "https://swissmodel.expasy.org/templates/6nig.1"
   ]
  },
  {
   "cell_type": "code",
   "execution_count": 118,
   "id": "525063b7",
   "metadata": {
    "scrolled": true
   },
   "outputs": [
    {
     "data": {
      "application/vnd.jupyter.widget-view+json": {
       "model_id": "81db1c629b8a48519cefccdfe17b55ad",
       "version_major": 2,
       "version_minor": 0
      },
      "text/plain": [
       "NGLWidget()"
      ]
     },
     "metadata": {},
     "output_type": "display_data"
    }
   ],
   "source": [
    "# Homology Sequence of Mouse TLR. \n",
    "\n",
    "# First, create a PDBParser object:\n",
    "parser = PDBParser()\n",
    "# Then, create a structure object from a PDB file in the following way (the PDB file in this case is called 1FAT.pdb, PHA-L is a user defined name for the structure):\n",
    "Mouse_structure = parser.get_structure(\"Mouse_TLR2\", \"Mouse.pdb\")\n",
    "# View Biopython structural entities\n",
    "view = nv.show_biopython(Mouse_structure)\n",
    "view"
   ]
  },
  {
   "cell_type": "markdown",
   "id": "f1cbaa3e",
   "metadata": {},
   "source": [
    "https://swissmodel.expasy.org/assess/6KZaUV/02"
   ]
  },
  {
   "cell_type": "markdown",
   "id": "0aae7e3d",
   "metadata": {},
   "source": [
    "Biounit Oligo State\tHomo-dimer\n",
    "\n",
    "QSQE\t0.50\n",
    "\n",
    "Method\tX-ray, 2.35 Å\n",
    "\n",
    "Seq Similarity\t0.48\n",
    "\n",
    "Coverage\t0.69\n",
    "\n",
    "Range\t27-544"
   ]
  },
  {
   "cell_type": "markdown",
   "id": "93d4b56e",
   "metadata": {},
   "source": [
    "### Plotting the Results: 3D Protein Measurement"
   ]
  },
  {
   "cell_type": "code",
   "execution_count": 119,
   "id": "e0574f08",
   "metadata": {},
   "outputs": [
    {
     "name": "stdout",
     "output_type": "stream",
     "text": [
      "Sequence: 1, Length: 218\n",
      "SLSCDRNGICKGSSGSLNSIPSGLTEAVKSLDLSNNRITYISNSDLQRCVNLQALVLTSNGINTIEEDSFSSLGSLEHLDLSYNYLSNLSSSWFKPLSSLTFLNLLGNPYKTLGETSLFSHLTKLQILRVGNMDTFTKIQRKDFAGLTFLEELEIDASDLQSYEPKSLKSIQNVSHLILHMKQHILLLEIFVDVTSSVECLELRDTDLDTFHFSELST\n",
      "Sequence: 2, Length: 328\n",
      "NSLIKKFTFRNVKITDESLFQVMKLLNQISGLLELEFDDCTLNGVGNFRASDNDRVIDPGKVETLTIRRLHIPRFYLFYDLSTLYSLTERVKRITVENSKVFLVPCLLSQHLKSLEYLDLSENLMVEEYLKNSACEDAWPSLQTLILRQNHLASLEKTGETLLTLKNLTNIDISKNSFHSMPETCQWPEKMKYLNLSSTRIHSVTGCIPKTLEILDVSNNNLNLFSLNLPQLKELYISRNKLMTLPDASLLPMLLVLKISRNQLKSVPDGIFDRLTSLQKIWLHTNPWDCSCPRIDYLSRWLNKNSQKEQGSAKCSGSGKPVRSIICP\n",
      "Sequence: 3, Length: 273\n",
      "SLSCDRNGICKGSSGSLNSIPSGLTEAVKSLDLSNNRITYISNSDLQRCVNLQALVLTSNGINTIEEDSFSSLGSLEHLDLSYNYLSNLSSSWFKPLSSLTFLNLLGNPYKTLGETSLFSHLTKLQILRVGNMDTFTKIQRKDFAGLTFLEELEIDASDLQSYEPKSLKSIQNVSHLILHMKQHILLLEIFVDVTSSVECLELRDTDLDTFHFSELSTGETNSLIKKFTFRNVKITDESLFQVMKLLNQISGLLELEFDDCTLNGVGNFRASD\n",
      "Sequence: 4, Length: 272\n",
      "IDPGKVETLTIRRLHIPRFYLFYDLSTLYSLTERVKRITVENSKVFLVPCLLSQHLKSLEYLDLSENLMVEEYLKNSACEDAWPSLQTLILRQNHLASLEKTGETLLTLKNLTNIDISKNSFHSMPETCQWPEKMKYLNLSSTRIHSVTGCIPKTLEILDVSNNNLNLFSLNLPQLKELYISRNKLMTLPDASLLPMLLVLKISRNQLKSVPDGIFDRLTSLQKIWLHTNPWDCSCPRIDYLSRWLNKNSQKEQGSAKCSGSGKPVRSIICP\n"
     ]
    }
   ],
   "source": [
    "# Polypeptide of Human sequence\n",
    "polypeptide_builder = CaPPBuilder()\n",
    "counter = 1\n",
    "for polypeptide in polypeptide_builder.build_peptides(Human_structure):\n",
    "    Human_seq = polypeptide.get_sequence()\n",
    "    print(f\"Sequence: {counter}, Length: {len(Human_seq)}\")\n",
    "    print(Human_seq)\n",
    "    counter += 1"
   ]
  },
  {
   "cell_type": "code",
   "execution_count": 122,
   "id": "f0f4afd9",
   "metadata": {},
   "outputs": [],
   "source": [
    "analyzed_seq = ProteinAnalysis(str(Human_seq))"
   ]
  },
  {
   "cell_type": "code",
   "execution_count": 123,
   "id": "103cf905",
   "metadata": {},
   "outputs": [
    {
     "data": {
      "text/plain": [
       "{'A': 0.01838235294117647,\n",
       " 'C': 0.029411764705882353,\n",
       " 'D': 0.04044117647058824,\n",
       " 'E': 0.05514705882352941,\n",
       " 'F': 0.022058823529411766,\n",
       " 'G': 0.025735294117647058,\n",
       " 'H': 0.022058823529411766,\n",
       " 'I': 0.0625,\n",
       " 'K': 0.07352941176470588,\n",
       " 'L': 0.17279411764705882,\n",
       " 'M': 0.01838235294117647,\n",
       " 'N': 0.0661764705882353,\n",
       " 'P': 0.05514705882352941,\n",
       " 'Q': 0.03308823529411765,\n",
       " 'R': 0.04779411764705882,\n",
       " 'S': 0.10661764705882353,\n",
       " 'T': 0.0625,\n",
       " 'V': 0.04044117647058824,\n",
       " 'W': 0.01838235294117647,\n",
       " 'Y': 0.029411764705882353}"
      ]
     },
     "execution_count": 123,
     "metadata": {},
     "output_type": "execute_result"
    }
   ],
   "source": [
    "# Analyzing Human amino acid sequence\n",
    "analyzed_seq.get_amino_acids_percent()"
   ]
  },
  {
   "cell_type": "code",
   "execution_count": 105,
   "id": "6c7c6cd6",
   "metadata": {},
   "outputs": [
    {
     "data": {
      "text/plain": [
       "(0.34558823529411764, 0.2536764705882353, 0.2647058823529412)"
      ]
     },
     "execution_count": 105,
     "metadata": {},
     "output_type": "execute_result"
    }
   ],
   "source": [
    "# hexlix, turn, sheet\n",
    "analyzed_seq.secondary_structure_fraction()"
   ]
  },
  {
   "cell_type": "code",
   "execution_count": 106,
   "id": "5cefc3aa",
   "metadata": {},
   "outputs": [
    {
     "data": {
      "text/plain": [
       "-0.22573529411764706"
      ]
     },
     "execution_count": 106,
     "metadata": {},
     "output_type": "execute_result"
    }
   ],
   "source": [
    "# hydrophobicity\n",
    "analyzed_seq.gravy()"
   ]
  },
  {
   "cell_type": "code",
   "execution_count": 120,
   "id": "e8964605",
   "metadata": {},
   "outputs": [
    {
     "name": "stdout",
     "output_type": "stream",
     "text": [
      "Sequence: 1, Length: 518\n",
      "SLSCDASGVCDGRSRSFTSIPSGLTAAMKSLDLSFNKITYIGHGDLRACANLQVLMLKSSRINTIEGDAFYSLGSLEHLDLSDNHLSSLSSSWFGPLSSLKYLNLMGNPYQTLGVTSLFPNLTNLQTLRIGNVETFSEIRRIDFAGLTSLNELEIKALSLRNYQSQSLKSIRDIHHLTLHLSESAFLLEIFADILSSVRYLELRDTNLARFQFSPLPVDEVSSPMKKLAFRGSVLTDESFNELLKLLRYILELSEVEFDDCTLNGLGDFNPSESDVVSELGKVETVTIRRLHIPQFYLFYDLSTVYSLLEKVKRITVENSKVFLVPCSFSQHLKSLEFLDLSENLMVEEYLKNSACKGAWPSLQTLVLSQNHLRSMQKTGEILLTLKNLTSLDISRNTFHPMPDSCQWPEKMRFLNLSSTGIRVVKTCIPQTLEVLDVSNNNLDSFSLFLPRLQELYISRNKLKTLPDASLFPVLLVMKIRENAVSTFSKDQLGSFPKLETLEAGDNHFVCSCELLSF\n"
     ]
    }
   ],
   "source": [
    "# Polypeptide of Mouse sequence\n",
    "polypeptide_builder = CaPPBuilder()\n",
    "counter = 1\n",
    "for polypeptide in polypeptide_builder.build_peptides(Mouse_structure):\n",
    "    Mouse_seq = polypeptide.get_sequence()\n",
    "    print(f\"Sequence: {counter}, Length: {len(Mouse_seq)}\")\n",
    "    print(Mouse_seq)\n",
    "    counter += 1"
   ]
  },
  {
   "cell_type": "code",
   "execution_count": 125,
   "id": "207ace09",
   "metadata": {},
   "outputs": [],
   "source": [
    "analyzed_seq = ProteinAnalysis(str(Mouse_seq))"
   ]
  },
  {
   "cell_type": "code",
   "execution_count": 126,
   "id": "de34e0c5",
   "metadata": {},
   "outputs": [
    {
     "data": {
      "text/plain": [
       "{'A': 0.032818532818532815,\n",
       " 'C': 0.019305019305019305,\n",
       " 'D': 0.05019305019305019,\n",
       " 'E': 0.06177606177606178,\n",
       " 'F': 0.055984555984555984,\n",
       " 'G': 0.04054054054054054,\n",
       " 'H': 0.021235521235521235,\n",
       " 'I': 0.0444015444015444,\n",
       " 'K': 0.04826254826254826,\n",
       " 'L': 0.17374517374517376,\n",
       " 'M': 0.017374517374517374,\n",
       " 'N': 0.05405405405405406,\n",
       " 'P': 0.03667953667953668,\n",
       " 'Q': 0.02895752895752896,\n",
       " 'R': 0.04633204633204633,\n",
       " 'S': 0.12934362934362933,\n",
       " 'T': 0.055984555984555984,\n",
       " 'V': 0.05405405405405406,\n",
       " 'W': 0.005791505791505791,\n",
       " 'Y': 0.023166023166023165}"
      ]
     },
     "execution_count": 126,
     "metadata": {},
     "output_type": "execute_result"
    }
   ],
   "source": [
    "# Analyzing Mouse amino acids sequence\n",
    "analyzed_seq.get_amino_acids_percent()"
   ]
  },
  {
   "cell_type": "code",
   "execution_count": 111,
   "id": "115e4fae",
   "metadata": {},
   "outputs": [
    {
     "data": {
      "text/plain": [
       "(0.3571428571428571, 0.26061776061776065, 0.2857142857142857)"
      ]
     },
     "execution_count": 111,
     "metadata": {},
     "output_type": "execute_result"
    }
   ],
   "source": [
    "# hexlix, turn, sheet\n",
    "analyzed_seq.secondary_structure_fraction()"
   ]
  },
  {
   "cell_type": "code",
   "execution_count": 112,
   "id": "53be9b97",
   "metadata": {},
   "outputs": [
    {
     "data": {
      "text/plain": [
       "-0.01583011583011585"
      ]
     },
     "execution_count": 112,
     "metadata": {},
     "output_type": "execute_result"
    }
   ],
   "source": [
    "# hydrophobicity\n",
    "analyzed_seq.gravy()"
   ]
  },
  {
   "cell_type": "markdown",
   "id": "645c3c7e",
   "metadata": {},
   "source": [
    "### Analyzing the Results"
   ]
  },
  {
   "cell_type": "markdown",
   "id": "eb8570fc",
   "metadata": {},
   "source": [
    "In the pairwise alignment score system, “+1” for a match and “0” for a mismatch between the pair of sequences at any given site of comparison. An optimal alignment is an alignment giving the highest score. The pairwise alignment score for human and mouse TLR gene is 187, which is comparatively low compared to the length of mouse TLR gene sequence, which is 5467. Thus the results show a low similarity between human and mouse TLR gene sequence.\n",
    "Homology modeling refers to constructing an atomic-resolution model of the \"target\" protein from its amino acid sequence and an experimental three-dimensional structure of a related homologous protein. By using SWISS Model, we got that the sequence similarity is 0.48 and the coverage is 0.69. Then we use 3D protein measurements to know the specific properties of human and mouse TLR protein. The significant gaps in amino acid sequence percent, structure fraction, and hydrophocbicity between human and mouse TLR protein all demonstrate the different properties between the two proteins. Thus it is likely that Mycobacterium Vaccae vaccine would not have the same effect of stimulating TLR signaling pathway in humans. "
   ]
  },
  {
   "cell_type": "code",
   "execution_count": null,
   "id": "5b0d4c76",
   "metadata": {},
   "outputs": [],
   "source": []
  }
 ],
 "metadata": {
  "kernelspec": {
   "display_name": "Python 3 (ipykernel)",
   "language": "python",
   "name": "python3"
  },
  "language_info": {
   "codemirror_mode": {
    "name": "ipython",
    "version": 3
   },
   "file_extension": ".py",
   "mimetype": "text/x-python",
   "name": "python",
   "nbconvert_exporter": "python",
   "pygments_lexer": "ipython3",
   "version": "3.9.7"
  }
 },
 "nbformat": 4,
 "nbformat_minor": 5
}
